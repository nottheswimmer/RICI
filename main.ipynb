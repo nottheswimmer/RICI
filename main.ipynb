{
 "cells": [
  {
   "cell_type": "markdown",
   "metadata": {},
   "source": [
    "# Resin Identification Code Identifier\n",
    "\n",
    "Note: This application only supports the identification of plastic objects with resin IDs 1, 2, 5, and 6. It also outputs a guess over the deformation and cleanliness of the object, as well as for whether it has a lid. The lid metric really only works well for simple plastic bottles."
   ]
  },
  {
   "cell_type": "code",
   "execution_count": 1,
   "metadata": {
    "pycharm": {
     "is_executing": true
    }
   },
   "outputs": [
    {
     "name": "stdout",
     "output_type": "stream",
     "text": [
      "Requirement already satisfied: voila in s:\\pycharmprojects\\plastic_identification.py\\venv\\lib\\site-packages (0.2.10)\n",
      "Requirement already satisfied: jupyter-client<7,>=6.1.3 in s:\\pycharmprojects\\plastic_identification.py\\venv\\lib\\site-packages (from voila) (6.1.12)\n",
      "Requirement already satisfied: jupyter-server<2.0.0,>=0.3.0 in s:\\pycharmprojects\\plastic_identification.py\\venv\\lib\\site-packages (from voila) (1.6.4)\n",
      "Requirement already satisfied: nbclient<0.6,>=0.4.0 in s:\\pycharmprojects\\plastic_identification.py\\venv\\lib\\site-packages (from voila) (0.5.3)\n",
      "Requirement already satisfied: nbconvert<7,>=6.0.0 in s:\\pycharmprojects\\plastic_identification.py\\venv\\lib\\site-packages (from voila) (6.0.7)\n",
      "Requirement already satisfied: traitlets in s:\\pycharmprojects\\plastic_identification.py\\venv\\lib\\site-packages (from jupyter-client<7,>=6.1.3->voila) (5.0.5)\n",
      "Requirement already satisfied: pyzmq>=13 in s:\\pycharmprojects\\plastic_identification.py\\venv\\lib\\site-packages (from jupyter-client<7,>=6.1.3->voila) (22.0.3)\n",
      "Requirement already satisfied: tornado>=4.1 in s:\\pycharmprojects\\plastic_identification.py\\venv\\lib\\site-packages (from jupyter-client<7,>=6.1.3->voila) (6.1)\n",
      "Requirement already satisfied: python-dateutil>=2.1 in s:\\pycharmprojects\\plastic_identification.py\\venv\\lib\\site-packages (from jupyter-client<7,>=6.1.3->voila) (2.8.1)\n",
      "Requirement already satisfied: jupyter-core>=4.6.0 in s:\\pycharmprojects\\plastic_identification.py\\venv\\lib\\site-packages (from jupyter-client<7,>=6.1.3->voila) (4.7.1)\n",
      "Requirement already satisfied: pywin32>=1.0 in s:\\pycharmprojects\\plastic_identification.py\\venv\\lib\\site-packages (from jupyter-core>=4.6.0->jupyter-client<7,>=6.1.3->voila) (300)\n",
      "Requirement already satisfied: jinja2 in s:\\pycharmprojects\\plastic_identification.py\\venv\\lib\\site-packages (from jupyter-server<2.0.0,>=0.3.0->voila) (2.11.3)\n",
      "Requirement already satisfied: ipython-genutils in s:\\pycharmprojects\\plastic_identification.py\\venv\\lib\\site-packages (from jupyter-server<2.0.0,>=0.3.0->voila) (0.2.0)\n",
      "Requirement already satisfied: jupyter-packaging~=0.9 in s:\\pycharmprojects\\plastic_identification.py\\venv\\lib\\site-packages (from jupyter-server<2.0.0,>=0.3.0->voila) (0.10.1)\n",
      "Requirement already satisfied: nbformat in s:\\pycharmprojects\\plastic_identification.py\\venv\\lib\\site-packages (from jupyter-server<2.0.0,>=0.3.0->voila) (5.1.3)\n",
      "Requirement already satisfied: prometheus-client in s:\\pycharmprojects\\plastic_identification.py\\venv\\lib\\site-packages (from jupyter-server<2.0.0,>=0.3.0->voila) (0.10.1)\n",
      "Requirement already satisfied: anyio<3,>=2.0.2 in s:\\pycharmprojects\\plastic_identification.py\\venv\\lib\\site-packages (from jupyter-server<2.0.0,>=0.3.0->voila) (2.2.0)\n",
      "Requirement already satisfied: Send2Trash in s:\\pycharmprojects\\plastic_identification.py\\venv\\lib\\site-packages (from jupyter-server<2.0.0,>=0.3.0->voila) (1.5.0)\n",
      "Requirement already satisfied: argon2-cffi in s:\\pycharmprojects\\plastic_identification.py\\venv\\lib\\site-packages (from jupyter-server<2.0.0,>=0.3.0->voila) (20.1.0)\n",
      "Requirement already satisfied: terminado>=0.8.3 in s:\\pycharmprojects\\plastic_identification.py\\venv\\lib\\site-packages (from jupyter-server<2.0.0,>=0.3.0->voila) (0.9.4)\n",
      "Requirement already satisfied: sniffio>=1.1 in s:\\pycharmprojects\\plastic_identification.py\\venv\\lib\\site-packages (from anyio<3,>=2.0.2->jupyter-server<2.0.0,>=0.3.0->voila) (1.2.0)\n",
      "Requirement already satisfied: typing-extensions in s:\\pycharmprojects\\plastic_identification.py\\venv\\lib\\site-packages (from anyio<3,>=2.0.2->jupyter-server<2.0.0,>=0.3.0->voila) (3.10.0.0)\n",
      "Requirement already satisfied: idna>=2.8 in s:\\pycharmprojects\\plastic_identification.py\\venv\\lib\\site-packages (from anyio<3,>=2.0.2->jupyter-server<2.0.0,>=0.3.0->voila) (2.10)\n",
      "Requirement already satisfied: setuptools>=46.4.0 in s:\\pycharmprojects\\plastic_identification.py\\venv\\lib\\site-packages (from jupyter-packaging~=0.9->jupyter-server<2.0.0,>=0.3.0->voila) (56.1.0)\n",
      "Requirement already satisfied: packaging in s:\\pycharmprojects\\plastic_identification.py\\venv\\lib\\site-packages (from jupyter-packaging~=0.9->jupyter-server<2.0.0,>=0.3.0->voila) (20.9)\n",
      "Requirement already satisfied: tomlkit in s:\\pycharmprojects\\plastic_identification.py\\venv\\lib\\site-packages (from jupyter-packaging~=0.9->jupyter-server<2.0.0,>=0.3.0->voila) (0.7.0)\n",
      "Requirement already satisfied: wheel in s:\\pycharmprojects\\plastic_identification.py\\venv\\lib\\site-packages (from jupyter-packaging~=0.9->jupyter-server<2.0.0,>=0.3.0->voila) (0.36.2)\n",
      "Requirement already satisfied: deprecation in s:\\pycharmprojects\\plastic_identification.py\\venv\\lib\\site-packages (from jupyter-packaging~=0.9->jupyter-server<2.0.0,>=0.3.0->voila) (2.1.0)\n",
      "Requirement already satisfied: async-generator in s:\\pycharmprojects\\plastic_identification.py\\venv\\lib\\site-packages (from nbclient<0.6,>=0.4.0->voila) (1.10)\n",
      "Requirement already satisfied: nest-asyncio in s:\\pycharmprojects\\plastic_identification.py\\venv\\lib\\site-packages (from nbclient<0.6,>=0.4.0->voila) (1.5.1)\n",
      "Requirement already satisfied: pandocfilters>=1.4.1 in s:\\pycharmprojects\\plastic_identification.py\\venv\\lib\\site-packages (from nbconvert<7,>=6.0.0->voila) (1.4.3)\n",
      "Requirement already satisfied: testpath in s:\\pycharmprojects\\plastic_identification.py\\venv\\lib\\site-packages (from nbconvert<7,>=6.0.0->voila) (0.4.4)\n",
      "Requirement already satisfied: entrypoints>=0.2.2 in s:\\pycharmprojects\\plastic_identification.py\\venv\\lib\\site-packages (from nbconvert<7,>=6.0.0->voila) (0.3)\n",
      "Requirement already satisfied: pygments>=2.4.1 in s:\\pycharmprojects\\plastic_identification.py\\venv\\lib\\site-packages (from nbconvert<7,>=6.0.0->voila) (2.9.0)\n",
      "Requirement already satisfied: bleach in s:\\pycharmprojects\\plastic_identification.py\\venv\\lib\\site-packages (from nbconvert<7,>=6.0.0->voila) (3.3.0)\n",
      "Requirement already satisfied: mistune<2,>=0.8.1 in s:\\pycharmprojects\\plastic_identification.py\\venv\\lib\\site-packages (from nbconvert<7,>=6.0.0->voila) (0.8.4)\n",
      "Requirement already satisfied: jupyterlab-pygments in s:\\pycharmprojects\\plastic_identification.py\\venv\\lib\\site-packages (from nbconvert<7,>=6.0.0->voila) (0.1.2)\n",
      "Requirement already satisfied: defusedxml in s:\\pycharmprojects\\plastic_identification.py\\venv\\lib\\site-packages (from nbconvert<7,>=6.0.0->voila) (0.7.1)\n",
      "Requirement already satisfied: MarkupSafe>=0.23 in s:\\pycharmprojects\\plastic_identification.py\\venv\\lib\\site-packages (from jinja2->jupyter-server<2.0.0,>=0.3.0->voila) (1.1.1)\n",
      "Requirement already satisfied: jsonschema!=2.5.0,>=2.4 in s:\\pycharmprojects\\plastic_identification.py\\venv\\lib\\site-packages (from nbformat->jupyter-server<2.0.0,>=0.3.0->voila) (3.2.0)\n",
      "Requirement already satisfied: six>=1.11.0 in s:\\pycharmprojects\\plastic_identification.py\\venv\\lib\\site-packages (from jsonschema!=2.5.0,>=2.4->nbformat->jupyter-server<2.0.0,>=0.3.0->voila) (1.16.0)\n",
      "Requirement already satisfied: attrs>=17.4.0 in s:\\pycharmprojects\\plastic_identification.py\\venv\\lib\\site-packages (from jsonschema!=2.5.0,>=2.4->nbformat->jupyter-server<2.0.0,>=0.3.0->voila) (21.2.0)\n",
      "Requirement already satisfied: importlib-metadata in s:\\pycharmprojects\\plastic_identification.py\\venv\\lib\\site-packages (from jsonschema!=2.5.0,>=2.4->nbformat->jupyter-server<2.0.0,>=0.3.0->voila) (4.0.1)\n",
      "Requirement already satisfied: pyrsistent>=0.14.0 in s:\\pycharmprojects\\plastic_identification.py\\venv\\lib\\site-packages (from jsonschema!=2.5.0,>=2.4->nbformat->jupyter-server<2.0.0,>=0.3.0->voila) (0.17.3)\n",
      "Requirement already satisfied: pywinpty>=0.5 in s:\\pycharmprojects\\plastic_identification.py\\venv\\lib\\site-packages (from terminado>=0.8.3->jupyter-server<2.0.0,>=0.3.0->voila) (1.0.1)\n",
      "Requirement already satisfied: cffi>=1.0.0 in s:\\pycharmprojects\\plastic_identification.py\\venv\\lib\\site-packages (from argon2-cffi->jupyter-server<2.0.0,>=0.3.0->voila) (1.14.5)\n",
      "Requirement already satisfied: pycparser in s:\\pycharmprojects\\plastic_identification.py\\venv\\lib\\site-packages (from cffi>=1.0.0->argon2-cffi->jupyter-server<2.0.0,>=0.3.0->voila) (2.20)\n",
      "Requirement already satisfied: webencodings in s:\\pycharmprojects\\plastic_identification.py\\venv\\lib\\site-packages (from bleach->nbconvert<7,>=6.0.0->voila) (0.5.1)\n",
      "Requirement already satisfied: zipp>=0.5 in s:\\pycharmprojects\\plastic_identification.py\\venv\\lib\\site-packages (from importlib-metadata->jsonschema!=2.5.0,>=2.4->nbformat->jupyter-server<2.0.0,>=0.3.0->voila) (3.4.1)\n",
      "Requirement already satisfied: pyparsing>=2.0.2 in s:\\pycharmprojects\\plastic_identification.py\\venv\\lib\\site-packages (from packaging->jupyter-packaging~=0.9->jupyter-server<2.0.0,>=0.3.0->voila) (2.4.7)\n"
     ]
    },
    {
     "name": "stderr",
     "output_type": "stream",
     "text": [
      "Enabling: voila\n",
      "- Writing config: s:\\pycharmprojects\\plastic_identification.py\\venv\\etc\\jupyter\n",
      "    - Validating...\n",
      "      voila 0.2.10 ok\n"
     ]
    }
   ],
   "source": [
    "!pip install voila\n",
    "!jupyter serverextension enable voila --sys-prefix\n"
   ]
  },
  {
   "cell_type": "code",
   "execution_count": 2,
   "metadata": {},
   "outputs": [],
   "source": [
    "import re\n",
    "import io\n",
    "from fastai.vision.all import *\n",
    "from fastai.vision.widgets import *\n",
    "\n",
    "pattern = re.compile(r'\\d{4}_(a\\d\\d)b\\d\\dc\\d(d\\d)(e\\d)(f\\d)g\\dh\\d\\.jpg')\n",
    "def get_y(x):\n",
    "  y =  list(x for x in pattern.search(str(x)).groups())\n",
    "  return y\n",
    "\n",
    "path = Path()\n",
    "learn_inf = None\n",
    "try:\n",
    "    learn_inf = load_learner(path/'models/trained.pkl')\n",
    "except NotImplementedError:\n",
    "    import pathlib\n",
    "    temp = pathlib.PosixPath\n",
    "    try:\n",
    "        pathlib.PosixPath = pathlib.PurePosixPath\n",
    "        learn_inf = load_learner(path/'models/trained.pkl')\n",
    "    finally:\n",
    "        pathlib.PosixPath = temp"
   ]
  },
  {
   "cell_type": "code",
   "execution_count": 3,
   "metadata": {},
   "outputs": [],
   "source": [
    "btn_upload = widgets.FileUpload()\n",
    "btn_run = widgets.Button()\n",
    "out_pl = widgets.Output()\n",
    "lbl_pred = widgets.Label()\n",
    "labels = {\n",
    "    'a': widgets.Label(),\n",
    "    'd': widgets.Label(),\n",
    "    'e': widgets.Label(),\n",
    "    'f': widgets.Label()\n",
    "}\n",
    "\n",
    "def nice_label(cls, prob):\n",
    "  t = cls[0]\n",
    "  d = cls[1:]\n",
    "  if t == 'a':\n",
    "    cls = f'Plastic type: ({int(d)}) ' + {\n",
    "        '00': 'missing or unreadable identifier',\n",
    "        '01': 'PET - polyethylene terephthalate',\n",
    "        '02': 'PE-HD - high-density polyethylene',\n",
    "        '03': 'PVC - polyvinyl chloride',\n",
    "        '04': 'PE-LD - low-density polyethylene',\n",
    "        '05': 'PP - polypropylene',\n",
    "        '06': 'PS - polystyrene',\n",
    "        '07': 'Other'}[d]\n",
    "  elif t == 'd':\n",
    "    cls = 'Deformation: ' + {\n",
    "        '0': 'undeformed',\n",
    "        '1': 'small deformation',\n",
    "        '2': 'medium deformation',\n",
    "        '3': 'high deformation'}[d]\n",
    "  elif t == 'e':\n",
    "    cls = 'Dirtiness: ' + {\n",
    "        '0': 'clean',\n",
    "        '1': 'small dirt',\n",
    "        '2': 'medium dirt',\n",
    "        '3': 'high dirt'}[d]\n",
    "  elif t == 'f':\n",
    "    cls = f'Screw or cap lid: ' + {\n",
    "        '0': 'lack',\n",
    "        '1': 'occurs'}[d]\n",
    "  labels[t].value = cls + f' (Confidence score: {prob:.4f})'\n",
    "  return cls\n",
    "\n",
    "def on_click(change):\n",
    "    img = PILImage.create(btn_upload.data[-1])\n",
    "    out_pl.clear_output()\n",
    "    with out_pl:\n",
    "        display(img.to_thumb(256, 256))\n",
    "    pred, pred_idx, probs = learn_inf.predict(img)\n",
    "    probabilities = list(probs[pred_idx])\n",
    "    [nice_label(p, probabilities.pop()) for p in pred]\n",
    "#     lbl_pred.value = f'Prediction: {[nice_label(p) for p in pred]}; #Probability: {prob_fmt}'\n",
    "\n",
    "btn_upload.observe(on_click, names=['data'])"
   ]
  },
  {
   "cell_type": "code",
   "execution_count": 4,
   "metadata": {},
   "outputs": [
    {
     "data": {
      "application/vnd.jupyter.widget-view+json": {
       "model_id": "594e7c23e47c488789db93f7a48d2453",
       "version_major": 2,
       "version_minor": 0
      },
      "text/plain": [
       "VBox(children=(Label(value='Select your image!'), FileUpload(value={}, description='Upload'), Output(), Label(…"
      ]
     },
     "metadata": {},
     "output_type": "display_data"
    }
   ],
   "source": [
    "display(VBox([widgets.Label('Select your image!'), btn_upload, out_pl, *labels.values()]))"
   ]
  }
 ],
 "metadata": {
  "kernelspec": {
   "display_name": "Python 3",
   "language": "python",
   "name": "python3"
  },
  "language_info": {
   "codemirror_mode": {
    "name": "ipython",
    "version": 3
   },
   "file_extension": ".py",
   "mimetype": "text/x-python",
   "name": "python",
   "nbconvert_exporter": "python",
   "pygments_lexer": "ipython3",
   "version": "3.7.8"
  }
 },
 "nbformat": 4,
 "nbformat_minor": 1
}